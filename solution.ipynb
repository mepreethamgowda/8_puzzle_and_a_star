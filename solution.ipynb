{
 "cells": [
  {
   "cell_type": "code",
   "execution_count": null,
   "metadata": {
    "scrolled": false
   },
   "outputs": [
    {
     "name": "stdout",
     "output_type": "stream",
     "text": [
      "\n",
      "\n",
      " Start  state:\n"
     ]
    }
   ],
   "source": [
    "import copy\n",
    "class Node:\n",
    "    def __init__(self, node, g, h, parent):\n",
    "        self.state = node\n",
    "        self.g = g # g: path cost aka level\n",
    "        self.h = h # h1: heuristic I cost or heuristic II cost (manhatten distance)\n",
    "        self.f = g + h # f: total cost = path cost + heuristic cost\n",
    "        self.children = []\n",
    "        self.parent = parent\n",
    "    \n",
    "    # returns position of a number in the state\n",
    "    def get_position(self, num):\n",
    "        for index, row in enumerate(self.state):\n",
    "            try:\n",
    "                return index, row.index(num)\n",
    "            except ValueError:\n",
    "                pass\n",
    "        return -1,-1\n",
    "    \n",
    "    # generates available moves for a given state\n",
    "    def generate_available_moves(self):\n",
    "        self.moves = []\n",
    "        row_max = 2\n",
    "        col_max = 2\n",
    "        self.zero = self.get_position(0) #position of zero\n",
    "\n",
    "        i = self.zero[0]\n",
    "        j = self.zero[1]\n",
    "\n",
    "        j_dec = j - 1 #left\n",
    "        if(j_dec >= 0):\n",
    "            self.moves.append((i, j_dec))\n",
    "        i_inc = i + 1 #bottom\n",
    "        if(i_inc <= row_max):\n",
    "            self.moves.append((i_inc, j))\n",
    "        i_dec = i - 1 #top\n",
    "        if(i_dec >= 0):\n",
    "            self.moves.append((i_dec, j))\n",
    "        j_inc = j + 1 #right\n",
    "        if(j_inc <= col_max):\n",
    "            self.moves.append((i, j_inc))\n",
    "    \n",
    "    # Generates new state by swapping the values of the 2 provided positions with a deep copy\n",
    "    def swap_positions(self, pos_1, pos_2):\n",
    "        new_state = copy.deepcopy(self.state)\n",
    "        i1 = pos_1[0]\n",
    "        j1 = pos_1[1]\n",
    "\n",
    "        i2 = pos_2[0]\n",
    "        j2 = pos_2[1]\n",
    "        temp = new_state[i1][j1]\n",
    "        new_state[i1][j1] = new_state[i2][j2]\n",
    "        new_state[i2][j2] = temp\n",
    "\n",
    "        return new_state\n",
    "    \n",
    "class AStarSearch:\n",
    "    def __init__(self):\n",
    "        self.closed = []\n",
    "        self.open = []\n",
    "\n",
    "#         self.start_state = [[2,8,3], [1,6,4], [7,0,5]]\n",
    "#         self.goal_state = [[1,2,3], [8,0,4], [7,6,5]]\n",
    "        \n",
    "#         self.start_state = [[1,2,3], [7,4,5], [6,8,0]]\n",
    "#         self.goal_state = [[1,2,3], [8,6,4], [7,5,0]]\n",
    "\n",
    "#         self.start_state = [[2,8,1], [3,4,6], [7,5,0]]\n",
    "#         self.goal_state = [[3,2,1], [8,0,4], [7,5,6]]\n",
    "\n",
    "    def read_state(self, title):\n",
    "        the_state = []\n",
    "        while True:\n",
    "            try:\n",
    "                print(\"\\n\\n\",title, \" state:\")\n",
    "                the_state = list(map(int,input(\"Please type in the state in the form of numbers seperated by spaces: \").strip().split()))[:9]\n",
    "                if(len(the_state) != 9):\n",
    "                    print(\"Invalid length of the state\")\n",
    "                else:\n",
    "                    break\n",
    "            except ValueError:\n",
    "                print(\"Wrong input: Enter Start State in the form of numbers seperated by spaces!!! \")\n",
    "        return [the_state[0:3],the_state[3:6],the_state[6:9]]\n",
    "    \n",
    "    def read_states(self):\n",
    "        self.start_state = self.read_state('Start')\n",
    "        self.goal_state = self.read_state('Goal')\n",
    "        self.count = 0\n",
    "        \n",
    "    def read_h_type(self):\n",
    "        while True:\n",
    "            self.h_type = input(\"\\nPlease type 'h1' for Heuristic I or 'h2' for Heuristic II :\")\n",
    "            if(self.h_type == 'h1' or self.h_type == 'h2'):\n",
    "                break\n",
    "            else:\n",
    "                print(\"Invalid input\")\n",
    "        \n",
    "    \n",
    "    # returns position of a number in the state\n",
    "    def get_position(self, num, state):\n",
    "        for index, row in enumerate(state):\n",
    "            try:\n",
    "                return index, row.index(num)\n",
    "            except ValueError:\n",
    "                pass\n",
    "        return -1,-1\n",
    "    \n",
    "    # returns manhatten distance for a single number\n",
    "    def m_dist(self, current_position, final_position):\n",
    "        return abs(current_position[0] - final_position[0]) + abs(current_position[1] - final_position[1])\n",
    "    \n",
    "    # Returns heuristic cost I\n",
    "    def h1(self,current_state, final_state):\n",
    "        heuristic_value = 0\n",
    "        for num in range(1,9):\n",
    "            current_position = self.get_position(num, current_state)\n",
    "            final_position = self.get_position(num, final_state)\n",
    "            if(current_position != final_position):\n",
    "                heuristic_value+= 1\n",
    "        return heuristic_value\n",
    "    \n",
    "    # Returns heuristic cost II (i.e based on manhatten distance)\n",
    "    def h2(self,current_state, final_state):\n",
    "        heuristic_value = 0\n",
    "        for num in range(1,9):\n",
    "            current_position = self.get_position(num, current_state)\n",
    "            final_position = self.get_position(num, final_state)\n",
    "            m_dist = self.m_dist(current_position, final_position)\n",
    "\n",
    "            heuristic_value+= m_dist\n",
    "        return heuristic_value\n",
    "    \n",
    "    def print_node(self, node, info = True):\n",
    "        state = node\n",
    "        if(info == True):\n",
    "            print(\"g: \", node.g, \" h: \", node.h, \" f: \", node.f)\n",
    "            state = node.state\n",
    "        for row in state:\n",
    "            print(row)\n",
    "        print(\"-------x--------\")\n",
    "        \n",
    "    def print_path(self, node):\n",
    "        self.print_node(node, False)\n",
    "        if(node.parent == None):\n",
    "            return\n",
    "        self.print_path(node.parent)\n",
    "    \n",
    "    def begin(self):\n",
    "        self.read_states()\n",
    "        self.read_h_type()\n",
    "        if(self.h_type == 'h1'):\n",
    "            ini_h = self.h1(self.start_state, self.goal_state)\n",
    "        else:\n",
    "            ini_h = self.h2(self.start_state, self.goal_state)\n",
    "            \n",
    "        print(\"Initial State: \")\n",
    "        self.print_node(self.start_state, False)\n",
    "        \n",
    "        print(\"Goal State: \")\n",
    "        self.print_node(self.goal_state, False)\n",
    "        \n",
    "        ini_state = Node(self.start_state,0,ini_h,None)\n",
    "        self.open.append(ini_state)\n",
    "        \n",
    "        while True:\n",
    "            cur = self.open[0]\n",
    "            self.count+= 1\n",
    "            self.print_node(cur)\n",
    "            if(cur.h == 0):\n",
    "                print(\"++++++++++++++*****************++++++++++++++\")\n",
    "                #self.print_path(cur)\n",
    "                break\n",
    "            cur.generate_available_moves()\n",
    "            for move in cur.moves:\n",
    "                temp_node = cur.swap_positions(move, cur.zero)\n",
    "                if(self.h_type == 'h1'):\n",
    "                    temp_h = self.h1(temp_node, self.goal_state)\n",
    "                else:\n",
    "                    temp_h = self.h2(temp_node, self.goal_state)\n",
    "                cur.children.append(Node(temp_node, cur.g+1, temp_h, cur))\n",
    "                #print(cur)\n",
    "            for child in cur.children:\n",
    "                self.open.append(child)\n",
    "            self.closed.append(cur)\n",
    "            del self.open[0]\n",
    "            self.open.sort(key = lambda x:x.f, reverse=False)\n",
    "            \n",
    "            if(self.count > 100):\n",
    "                print(\"Unable to find a solution.\")\n",
    "                break\n",
    "\n",
    "aStarSearch = AStarSearch()\n",
    "aStarSearch.begin()\n",
    "print(\"Total number of nodes expanded: \", len(aStarSearch.closed))\n",
    "print(\"Total number of nodes generated: \", len(aStarSearch.closed) + len(aStarSearch.closed))"
   ]
  },
  {
   "cell_type": "code",
   "execution_count": null,
   "metadata": {},
   "outputs": [],
   "source": []
  },
  {
   "cell_type": "code",
   "execution_count": 4,
   "metadata": {},
   "outputs": [
    {
     "name": "stdout",
     "output_type": "stream",
     "text": [
      "8 4 4 2 2 2 2 2 2\n"
     ]
    }
   ],
   "source": [
    "some_list = input().split()"
   ]
  },
  {
   "cell_type": "code",
   "execution_count": 7,
   "metadata": {},
   "outputs": [
    {
     "data": {
      "text/plain": [
       "list"
      ]
     },
     "execution_count": 7,
     "metadata": {},
     "output_type": "execute_result"
    }
   ],
   "source": [
    "type(some_list)"
   ]
  },
  {
   "cell_type": "code",
   "execution_count": 12,
   "metadata": {},
   "outputs": [
    {
     "data": {
      "text/plain": [
       "9"
      ]
     },
     "execution_count": 12,
     "metadata": {},
     "output_type": "execute_result"
    }
   ],
   "source": [
    "len(some_list)"
   ]
  },
  {
   "cell_type": "code",
   "execution_count": 13,
   "metadata": {},
   "outputs": [
    {
     "data": {
      "text/plain": [
       "str"
      ]
     },
     "execution_count": 13,
     "metadata": {},
     "output_type": "execute_result"
    }
   ],
   "source": [
    "type(some_list[0])"
   ]
  },
  {
   "cell_type": "code",
   "execution_count": 11,
   "metadata": {},
   "outputs": [
    {
     "ename": "SyntaxError",
     "evalue": "invalid syntax (<ipython-input-11-f951b73cf688>, line 1)",
     "output_type": "error",
     "traceback": [
      "\u001b[1;36m  File \u001b[1;32m\"<ipython-input-11-f951b73cf688>\"\u001b[1;36m, line \u001b[1;32m1\u001b[0m\n\u001b[1;33m    1 2 3 7 4 5 6 8 0\u001b[0m\n\u001b[1;37m      ^\u001b[0m\n\u001b[1;31mSyntaxError\u001b[0m\u001b[1;31m:\u001b[0m invalid syntax\n"
     ]
    }
   ],
   "source": [
    "1 2 3 7 4 5 6 8 0\n",
    "1 2 3 8 6 4 7 5 0"
   ]
  },
  {
   "cell_type": "code",
   "execution_count": null,
   "metadata": {},
   "outputs": [],
   "source": [
    "1 2 3 7 4 5 6 8 0\n",
    "1 2 7 8 6 4 3 5 0"
   ]
  },
  {
   "cell_type": "code",
   "execution_count": 3,
   "metadata": {},
   "outputs": [
    {
     "ename": "SyntaxError",
     "evalue": "invalid syntax (<ipython-input-3-554c7733978c>, line 1)",
     "output_type": "error",
     "traceback": [
      "\u001b[1;36m  File \u001b[1;32m\"<ipython-input-3-554c7733978c>\"\u001b[1;36m, line \u001b[1;32m1\u001b[0m\n\u001b[1;33m    2 8 1 3 4 6 7 5 0\u001b[0m\n\u001b[1;37m      ^\u001b[0m\n\u001b[1;31mSyntaxError\u001b[0m\u001b[1;31m:\u001b[0m invalid syntax\n"
     ]
    }
   ],
   "source": [
    "2 8 1 3 4 6 7 5 0\n",
    "3 2 1 8 0 4 7 5 6"
   ]
  },
  {
   "cell_type": "code",
   "execution_count": null,
   "metadata": {},
   "outputs": [],
   "source": [
    "8 2 1 3 4 6 7 5 0\n",
    "3 8 1 2 0 4 7 5 6"
   ]
  },
  {
   "cell_type": "code",
   "execution_count": null,
   "metadata": {},
   "outputs": [],
   "source": [
    "[2, 8, 3]\n",
    "[1, 6, 4]\n",
    "[7, 0, 5]\n",
    "\n",
    "2 8 3 1 6 4 7 0 5\n",
    "[1, 2, 3]\n",
    "[8, 0, 4]\n",
    "[7, 6, 5]\n",
    "1 2 3 8 0 4 7 6 5 "
   ]
  },
  {
   "cell_type": "markdown",
   "metadata": {},
   "source": [
    "## References:\n",
    "\n",
    "https://www.geeksforgeeks.org/python-get-a-list-as-input-from-user/"
   ]
  },
  {
   "cell_type": "code",
   "execution_count": 6,
   "metadata": {},
   "outputs": [
    {
     "data": {
      "text/plain": [
       "int"
      ]
     },
     "execution_count": 6,
     "metadata": {},
     "output_type": "execute_result"
    }
   ],
   "source": [
    "type(nums[1])"
   ]
  },
  {
   "cell_type": "code",
   "execution_count": 1,
   "metadata": {},
   "outputs": [
    {
     "name": "stdout",
     "output_type": "stream",
     "text": [
      "\n",
      "Please type in the state in the form of numbers seperated by spaces: 1 2 3 4 5 6 7 8 9\n"
     ]
    }
   ],
   "source": [
    "the_state = list(map(int,input(\"\\nPlease type in the state in the form of numbers seperated by spaces: \").strip().split()))[:9]"
   ]
  },
  {
   "cell_type": "code",
   "execution_count": 8,
   "metadata": {},
   "outputs": [
    {
     "data": {
      "text/plain": [
       "[[1, 2, 3], [4, 5, 6], [7, 8, 9]]"
      ]
     },
     "execution_count": 8,
     "metadata": {},
     "output_type": "execute_result"
    }
   ],
   "source": []
  },
  {
   "cell_type": "code",
   "execution_count": 6,
   "metadata": {},
   "outputs": [
    {
     "data": {
      "text/plain": [
       "[4, 5, 6]"
      ]
     },
     "execution_count": 6,
     "metadata": {},
     "output_type": "execute_result"
    }
   ],
   "source": []
  },
  {
   "cell_type": "code",
   "execution_count": 7,
   "metadata": {},
   "outputs": [
    {
     "data": {
      "text/plain": [
       "[7, 8, 9]"
      ]
     },
     "execution_count": 7,
     "metadata": {},
     "output_type": "execute_result"
    }
   ],
   "source": []
  },
  {
   "cell_type": "code",
   "execution_count": null,
   "metadata": {},
   "outputs": [],
   "source": []
  }
 ],
 "metadata": {
  "kernelspec": {
   "display_name": "Python 3",
   "language": "python",
   "name": "python3"
  },
  "language_info": {
   "codemirror_mode": {
    "name": "ipython",
    "version": 3
   },
   "file_extension": ".py",
   "mimetype": "text/x-python",
   "name": "python",
   "nbconvert_exporter": "python",
   "pygments_lexer": "ipython3",
   "version": "3.7.3"
  }
 },
 "nbformat": 4,
 "nbformat_minor": 2
}
